{
 "cells": [
  {
   "cell_type": "markdown",
   "id": "fad20470",
   "metadata": {},
   "source": [
    "# Numpy 실습해보기\n",
    "---\n",
    "\n",
    "## Numpy 자체 메소드\n",
    "\n",
    "1. Array 생성\n",
    "2. zeros, ones\n",
    "3. shape"
   ]
  },
  {
   "cell_type": "code",
   "execution_count": 1,
   "id": "f132c374",
   "metadata": {},
   "outputs": [],
   "source": [
    "import numpy as np  # Numpy 삽입"
   ]
  },
  {
   "cell_type": "markdown",
   "id": "2f84f84a",
   "metadata": {},
   "source": [
    "### 1. Numpy로 Array 생성하기\n",
    "\n",
    "Numpy Array는 파이썬의 list와는 달리 C와 같이 데이터 타입을 고정해 만들어야 한다.  \n",
    "반면, list는 이런 고정 데이터 타입이 아닌 동적 타이핑이 가능하다.\n",
    "``` python\n",
    "_list = [True, 3, \"3\", 3.3] # 동적 타이핑, 타입의 제한이 없음.\n",
    "```\n",
    "이러한 리스트가 유연하기 위해서는 리스트의 각 항목에 타입 정보와 참조 횟수, 기타 정보가 들어가야 한다.  \n",
    "즉, 각 항목이 완전한 파이썬 객체인 것이다.  \n",
    "모든 변수가 같은 타입인 경우 이 정보가 대부분 불필요하게 중복되므로 고정 타입 배열에 데이터를 저장하는 것이 더 효율적일 수 있다.  \n",
    "\n",
    "numpy array는 array의 데이터 효율성을 넘어서 연산 또한 가능해 데이터 분석에 용이한 라이브러리다."
   ]
  },
  {
   "cell_type": "code",
   "execution_count": 2,
   "id": "69b8b076",
   "metadata": {},
   "outputs": [],
   "source": [
    "# array 생성\n",
    "arr = np.array([1, 2, 3])"
   ]
  },
  {
   "cell_type": "code",
   "execution_count": 3,
   "id": "bc7bf1b3",
   "metadata": {},
   "outputs": [
    {
     "data": {
      "text/plain": [
       "array([1, 2, 3])"
      ]
     },
     "execution_count": 3,
     "metadata": {},
     "output_type": "execute_result"
    }
   ],
   "source": [
    "# arr 확인\n",
    "arr"
   ]
  },
  {
   "cell_type": "markdown",
   "id": "c120df53",
   "metadata": {},
   "source": [
    "python의 range를 사용할 때처럼 이렇게 배열을 생성할 수도 있다.  \n",
    "\n",
    "#### Q. 다음 코드를 보며 결과 값이 어떨지 상상하고 코드를 실행해보자."
   ]
  },
  {
   "cell_type": "code",
   "execution_count": 4,
   "id": "ca25f93a",
   "metadata": {},
   "outputs": [
    {
     "data": {
      "text/plain": [
       "array([ 0,  2,  4,  6,  8, 10])"
      ]
     },
     "execution_count": 4,
     "metadata": {},
     "output_type": "execute_result"
    }
   ],
   "source": [
    "np.arange(0, 11, 2)"
   ]
  },
  {
   "cell_type": "markdown",
   "id": "249c007a",
   "metadata": {},
   "source": [
    "### 2. zeros와 ones\n",
    "zeros와 ones는 numpy 자체 메소드다.  \n",
    "각각 0과 1이 채워진 배열이 생성된다. 배열의 길이는 괄호 안의 매개 변수로 결정된다.  \n",
    "```python\n",
    "np.zeros(3) #[0., 0., 0.,]\n",
    "np.ones(3)  #[1., 1., 1.,]\n",
    "```\n",
    "각 숫자의 끝에 .이 찍히는 이유는 부동소수점으로 삽입되기 때문이다.  "
   ]
  },
  {
   "cell_type": "code",
   "execution_count": 5,
   "id": "8b7a260a",
   "metadata": {},
   "outputs": [],
   "source": [
    "zeros = np.zeros(5)"
   ]
  },
  {
   "cell_type": "code",
   "execution_count": 6,
   "id": "5aeace18",
   "metadata": {},
   "outputs": [
    {
     "data": {
      "text/plain": [
       "array([0., 0., 0., 0., 0.])"
      ]
     },
     "execution_count": 6,
     "metadata": {},
     "output_type": "execute_result"
    }
   ],
   "source": [
    "# 새로 생긴 zeros 확인\n",
    "zeros"
   ]
  },
  {
   "cell_type": "code",
   "execution_count": 7,
   "id": "967715b8",
   "metadata": {},
   "outputs": [],
   "source": [
    "ones = np.ones(5)"
   ]
  },
  {
   "cell_type": "code",
   "execution_count": 8,
   "id": "a72b6a2e",
   "metadata": {},
   "outputs": [
    {
     "data": {
      "text/plain": [
       "array([1., 1., 1., 1., 1.])"
      ]
     },
     "execution_count": 8,
     "metadata": {},
     "output_type": "execute_result"
    }
   ],
   "source": [
    "# 새로 생긴 ones 확인\n",
    "ones"
   ]
  },
  {
   "cell_type": "markdown",
   "id": "f73de147",
   "metadata": {},
   "source": [
    "2차원 배열로도 생성할 수 있다.\n",
    "\n",
    "#### Q. 다음과 같은 출력물이 나오려면 코드를 어떻게 수정해야 할지 생각해보자."
   ]
  },
  {
   "cell_type": "code",
   "execution_count": 10,
   "id": "f62428a8",
   "metadata": {},
   "outputs": [
    {
     "data": {
      "text/plain": [
       "array([[0., 0., 0.],\n",
       "       [0., 0., 0.],\n",
       "       [0., 0., 0.]])"
      ]
     },
     "execution_count": 10,
     "metadata": {},
     "output_type": "execute_result"
    }
   ],
   "source": [
    "np.zeros((3,3))"
   ]
  },
  {
   "cell_type": "markdown",
   "id": "9e83e4ce",
   "metadata": {},
   "source": [
    "### 3. shape으로 배열 확인, reshape으로 배열 변형하기.\n",
    "shape 또한 numpy 자체 메소드다.  \n",
    "일차원 배열을 이차원 배열로 변형 할때 많이 쓰이며 1->2가 아닌 역의 상황에서도 사용 가능하다.  \n",
    "배열의 사이즈만 같다면 다차원으로 자유롭게 변형이 가능하다.\n",
    "단, 배열의 사이즈가 같지 않을시 오류가 나며 변형이 되지 않으므로 주의가 필요하다.\n",
    "```python\n",
    "array([1, 2, 3, 4])\n",
    "np.reshape(2,3) #오류, 원소의 개수가 6개로 너무 많음\n",
    "```"
   ]
  },
  {
   "cell_type": "code",
   "execution_count": 11,
   "id": "8466ba64",
   "metadata": {},
   "outputs": [],
   "source": [
    "arr_shape = np.array([1, 2, 3, 4, 5, 6, 7, 8, 9])  # 원소가 9개인 배열 생성"
   ]
  },
  {
   "cell_type": "code",
   "execution_count": 12,
   "id": "97380c29",
   "metadata": {},
   "outputs": [
    {
     "data": {
      "text/plain": [
       "array([1, 2, 3, 4, 5, 6, 7, 8, 9])"
      ]
     },
     "execution_count": 12,
     "metadata": {},
     "output_type": "execute_result"
    }
   ],
   "source": [
    "# 생성된 array 확인\n",
    "arr_shape"
   ]
  },
  {
   "cell_type": "code",
   "execution_count": 13,
   "id": "f83b84a1",
   "metadata": {},
   "outputs": [
    {
     "data": {
      "text/plain": [
       "(9,)"
      ]
     },
     "execution_count": 13,
     "metadata": {},
     "output_type": "execute_result"
    }
   ],
   "source": [
    "# arr_shape의 모양 확인\n",
    "arr_shape.shape"
   ]
  },
  {
   "cell_type": "code",
   "execution_count": 15,
   "id": "5cdb19e5",
   "metadata": {},
   "outputs": [],
   "source": [
    "# 가로 3, 세로 3의 2차원 배열로 재생성\n",
    "arr_shape = arr_shape.reshape(3,3)"
   ]
  },
  {
   "cell_type": "code",
   "execution_count": 16,
   "id": "86575f13",
   "metadata": {},
   "outputs": [
    {
     "data": {
      "text/plain": [
       "array([[1, 2, 3],\n",
       "       [4, 5, 6],\n",
       "       [7, 8, 9]])"
      ]
     },
     "execution_count": 16,
     "metadata": {},
     "output_type": "execute_result"
    }
   ],
   "source": [
    "# 바뀐 array y 확인\n",
    "arr_shape"
   ]
  },
  {
   "cell_type": "code",
   "execution_count": 17,
   "id": "c88ef2c8",
   "metadata": {},
   "outputs": [
    {
     "data": {
      "text/plain": [
       "(3, 3)"
      ]
     },
     "execution_count": 17,
     "metadata": {},
     "output_type": "execute_result"
    }
   ],
   "source": [
    "# 바뀐 array y의 모양 확인\n",
    "arr_shape.shape"
   ]
  },
  {
   "cell_type": "markdown",
   "id": "82e2c4d0",
   "metadata": {},
   "source": [
    "#### [확인문제] Q. 다음과 같은 배열을 만드시오. (단, reshape을 사용해야함)"
   ]
  },
  {
   "cell_type": "code",
   "execution_count": 18,
   "id": "084fccb0",
   "metadata": {},
   "outputs": [],
   "source": [
    "# DO NOT WRITE HERE"
   ]
  },
  {
   "cell_type": "code",
   "execution_count": 25,
   "id": "f75f69af",
   "metadata": {},
   "outputs": [
    {
     "data": {
      "text/plain": [
       "array([1., 1., 1., 1., 1., 1., 1., 1., 1., 1., 1., 1., 1., 1., 1.])"
      ]
     },
     "execution_count": 25,
     "metadata": {},
     "output_type": "execute_result"
    }
   ],
   "source": [
    "np_arr = np.ones(15)\n",
    "np_arr\n"
   ]
  },
  {
   "cell_type": "code",
   "execution_count": 26,
   "id": "4923afb7",
   "metadata": {},
   "outputs": [
    {
     "data": {
      "text/plain": [
       "array([[1., 1., 1.],\n",
       "       [1., 1., 1.],\n",
       "       [1., 1., 1.],\n",
       "       [1., 1., 1.],\n",
       "       [1., 1., 1.]])"
      ]
     },
     "execution_count": 26,
     "metadata": {},
     "output_type": "execute_result"
    }
   ],
   "source": [
    "np_arr.reshape(5,3)"
   ]
  },
  {
   "cell_type": "markdown",
   "id": "1dba37ca",
   "metadata": {},
   "source": [
    "## Numpy array의 연산\n",
    "앞서 설명했듯, Numpy Array는 다른 array와는 달리 사칙연산이 가능하다.  \n",
    "행과 열이 같은 배열을 계산하면 값은 위치에 있는 값들이 계산된다.  \n",
    "```python\n",
    "arr_sum = arr_1 + arr_2  #[0, 1, 2] + [1, 2, 3]\n",
    "arr_sum  #[1, 3, 5]\n",
    "```\n",
    "다음 코드를 실행하며 연습해보자."
   ]
  },
  {
   "cell_type": "code",
   "execution_count": 27,
   "id": "06da8446",
   "metadata": {},
   "outputs": [],
   "source": [
    "# 1부터 10까지 정수 배열 생성\n",
    "arr_1 = np.arange(1, 11)"
   ]
  },
  {
   "cell_type": "code",
   "execution_count": 28,
   "id": "7eaec3b2",
   "metadata": {},
   "outputs": [
    {
     "data": {
      "text/plain": [
       "array([ 1,  2,  3,  4,  5,  6,  7,  8,  9, 10])"
      ]
     },
     "execution_count": 28,
     "metadata": {},
     "output_type": "execute_result"
    }
   ],
   "source": [
    "arr_1"
   ]
  },
  {
   "cell_type": "code",
   "execution_count": 29,
   "id": "3218dbe9",
   "metadata": {},
   "outputs": [],
   "source": [
    "# 10부터 19까지 정수 배열 생성\n",
    "arr_2 = np.arange(10, 20)"
   ]
  },
  {
   "cell_type": "code",
   "execution_count": 30,
   "id": "fe8ecabf",
   "metadata": {},
   "outputs": [
    {
     "data": {
      "text/plain": [
       "array([10, 11, 12, 13, 14, 15, 16, 17, 18, 19])"
      ]
     },
     "execution_count": 30,
     "metadata": {},
     "output_type": "execute_result"
    }
   ],
   "source": [
    "arr_2"
   ]
  },
  {
   "cell_type": "code",
   "execution_count": 31,
   "id": "3e930a15",
   "metadata": {},
   "outputs": [
    {
     "data": {
      "text/plain": [
       "array([11, 13, 15, 17, 19, 21, 23, 25, 27, 29])"
      ]
     },
     "execution_count": 31,
     "metadata": {},
     "output_type": "execute_result"
    }
   ],
   "source": [
    "# arr_1과 arr_2를 더한 값을 확인.\n",
    "# 같은 위치에 있는 값들이 계산된다.\n",
    "arr_1 + arr_2"
   ]
  },
  {
   "cell_type": "code",
   "execution_count": 32,
   "id": "05d29cdb",
   "metadata": {},
   "outputs": [
    {
     "data": {
      "text/plain": [
       "array([-9, -9, -9, -9, -9, -9, -9, -9, -9, -9])"
      ]
     },
     "execution_count": 32,
     "metadata": {},
     "output_type": "execute_result"
    }
   ],
   "source": [
    "arr_1 - arr_2"
   ]
  },
  {
   "cell_type": "code",
   "execution_count": 33,
   "id": "a2256f9f",
   "metadata": {},
   "outputs": [
    {
     "data": {
      "text/plain": [
       "array([101, 102, 103, 104, 105, 106, 107, 108, 109, 110])"
      ]
     },
     "execution_count": 33,
     "metadata": {},
     "output_type": "execute_result"
    }
   ],
   "source": [
    "# 피연산자를 주고 단순 사칙연산도 가능\n",
    "arr_1 + 100"
   ]
  },
  {
   "cell_type": "markdown",
   "id": "4611eaa1",
   "metadata": {},
   "source": [
    "#### [확인문제] Q. 다음과 같은 배열을 만드시오."
   ]
  },
  {
   "cell_type": "code",
   "execution_count": 82,
   "id": "9d74bbaa",
   "metadata": {},
   "outputs": [
    {
     "data": {
      "text/plain": [
       "array([[5., 5., 5.],\n",
       "       [5., 5., 5.],\n",
       "       [5., 5., 5.]])"
      ]
     },
     "execution_count": 82,
     "metadata": {},
     "output_type": "execute_result"
    }
   ],
   "source": [
    "# DO NOT WRITE HERE"
   ]
  },
  {
   "cell_type": "code",
   "execution_count": 34,
   "id": "987f52e2",
   "metadata": {},
   "outputs": [
    {
     "data": {
      "text/plain": [
       "array([1., 1., 1., 1., 1., 1., 1., 1., 1.])"
      ]
     },
     "execution_count": 34,
     "metadata": {},
     "output_type": "execute_result"
    }
   ],
   "source": [
    "arr1 = np.ones(9)\n",
    "arr1"
   ]
  },
  {
   "cell_type": "code",
   "execution_count": 37,
   "id": "7416797a",
   "metadata": {},
   "outputs": [],
   "source": [
    "arr1 = arr1 * 5"
   ]
  },
  {
   "cell_type": "code",
   "execution_count": 38,
   "id": "ff6a9d1a",
   "metadata": {},
   "outputs": [
    {
     "data": {
      "text/plain": [
       "array([[5., 5., 5.],\n",
       "       [5., 5., 5.],\n",
       "       [5., 5., 5.]])"
      ]
     },
     "execution_count": 38,
     "metadata": {},
     "output_type": "execute_result"
    }
   ],
   "source": [
    "arr1.reshape(3,3)"
   ]
  },
  {
   "cell_type": "code",
   "execution_count": 39,
   "id": "ddc5189a",
   "metadata": {},
   "outputs": [
    {
     "data": {
      "text/plain": [
       "array([[5., 5., 5.],\n",
       "       [5., 5., 5.],\n",
       "       [5., 5., 5.]])"
      ]
     },
     "execution_count": 39,
     "metadata": {},
     "output_type": "execute_result"
    }
   ],
   "source": [
    "arr2 = np.ones(9)\n",
    "arr2 = arr2 + 4\n",
    "arr2.reshape(3,3)"
   ]
  },
  {
   "cell_type": "code",
   "execution_count": 40,
   "id": "bbb52ab7",
   "metadata": {},
   "outputs": [
    {
     "data": {
      "text/plain": [
       "array([[5., 5., 5.],\n",
       "       [5., 5., 5.],\n",
       "       [5., 5., 5.]])"
      ]
     },
     "execution_count": 40,
     "metadata": {},
     "output_type": "execute_result"
    }
   ],
   "source": [
    "arr3 = np.ones((3,3)) + 4\n",
    "arr3"
   ]
  },
  {
   "cell_type": "code",
   "execution_count": null,
   "id": "fa736393",
   "metadata": {},
   "outputs": [],
   "source": []
  }
 ],
 "metadata": {
  "kernelspec": {
   "display_name": "Python 3 (ipykernel)",
   "language": "python",
   "name": "python3"
  },
  "language_info": {
   "codemirror_mode": {
    "name": "ipython",
    "version": 3
   },
   "file_extension": ".py",
   "mimetype": "text/x-python",
   "name": "python",
   "nbconvert_exporter": "python",
   "pygments_lexer": "ipython3",
   "version": "3.9.13"
  }
 },
 "nbformat": 4,
 "nbformat_minor": 5
}
